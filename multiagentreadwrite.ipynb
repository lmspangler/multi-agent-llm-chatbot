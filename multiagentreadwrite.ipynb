{
  "nbformat": 4,
  "nbformat_minor": 0,
  "metadata": {
    "colab": {
      "provenance": []
    },
    "kernelspec": {
      "name": "python3",
      "display_name": "Python 3"
    },
    "language_info": {
      "name": "python"
    }
  },
  "cells": [
    {
      "cell_type": "code",
      "source": [
        "!pip install numpy==1.26.4 --force-reinstall\n"
      ],
      "metadata": {
        "colab": {
          "base_uri": "https://localhost:8080/"
        },
        "id": "r01aaJGCDRqo",
        "outputId": "baaf021f-7028-4cbc-bcbd-1f15f3cb5af8"
      },
      "execution_count": null,
      "outputs": [
        {
          "output_type": "stream",
          "name": "stdout",
          "text": [
            "Collecting numpy==1.26.4\n",
            "  Using cached numpy-1.26.4-cp311-cp311-manylinux_2_17_x86_64.manylinux2014_x86_64.whl.metadata (61 kB)\n",
            "Using cached numpy-1.26.4-cp311-cp311-manylinux_2_17_x86_64.manylinux2014_x86_64.whl (18.3 MB)\n",
            "Installing collected packages: numpy\n",
            "  Attempting uninstall: numpy\n",
            "    Found existing installation: numpy 1.26.4\n",
            "    Uninstalling numpy-1.26.4:\n",
            "      Successfully uninstalled numpy-1.26.4\n",
            "Successfully installed numpy-1.26.4\n"
          ]
        }
      ]
    },
    {
      "cell_type": "code",
      "execution_count": null,
      "metadata": {
        "id": "6d2iv6ikq9qm"
      },
      "outputs": [],
      "source": [
        "!pip install --upgrade --quiet crewai==0.28.8 crewai_tools==0.1.6 langchain_community==0.0.29\n"
      ]
    },
    {
      "cell_type": "code",
      "source": [
        "from crewai import Agent, Task, Crew\n"
      ],
      "metadata": {
        "colab": {
          "base_uri": "https://localhost:8080/"
        },
        "id": "6bgVXmHdP2NC",
        "outputId": "b8fd075b-b81d-48a7-e1bf-28458fdcc06d"
      },
      "execution_count": null,
      "outputs": [
        {
          "output_type": "stream",
          "name": "stderr",
          "text": [
            "/usr/local/lib/python3.11/dist-packages/pydantic/_internal/_generate_schema.py:891: UserWarning: Mixing V1 models and V2 models (or constructs, like `TypeAdapter`) is not supported. Please upgrade `CrewAgentExecutor` to V2.\n",
            "  warn(\n"
          ]
        }
      ]
    },
    {
      "cell_type": "code",
      "source": [
        "# Save .env\n",
        "with open(\".env\", \"w\") as f:\n",
        "    f.write(\"OPENAI_API_KEY=your_api_key\\n\")\n",
        "    f.write(\"OPENAI_MODEL_NAME=gpt-3.5-turbo\\n\")\n",
        "\n",
        "# Save README.md\n",
        "with open(\"README.md\", \"w\") as f:\n",
        "    f.write(\"# Multi-Agent LLM Chatbot Project\\n\")\n",
        "    f.write(\"This project uses various agents to plan, write, and edit an article\\n\")\n"
      ],
      "metadata": {
        "id": "Ni-fFunbP-cY"
      },
      "execution_count": null,
      "outputs": []
    },
    {
      "cell_type": "code",
      "source": [
        "from google.colab import files\n",
        "files.download(\".env\")\n",
        "files.download(\"README.md\")\n"
      ],
      "metadata": {
        "colab": {
          "base_uri": "https://localhost:8080/",
          "height": 17
        },
        "id": "1qEzj4MTymsp",
        "outputId": "2ec6f6ce-31af-4f29-812e-8ad792ce7ae4"
      },
      "execution_count": null,
      "outputs": [
        {
          "output_type": "display_data",
          "data": {
            "text/plain": [
              "<IPython.core.display.Javascript object>"
            ],
            "application/javascript": [
              "\n",
              "    async function download(id, filename, size) {\n",
              "      if (!google.colab.kernel.accessAllowed) {\n",
              "        return;\n",
              "      }\n",
              "      const div = document.createElement('div');\n",
              "      const label = document.createElement('label');\n",
              "      label.textContent = `Downloading \"${filename}\": `;\n",
              "      div.appendChild(label);\n",
              "      const progress = document.createElement('progress');\n",
              "      progress.max = size;\n",
              "      div.appendChild(progress);\n",
              "      document.body.appendChild(div);\n",
              "\n",
              "      const buffers = [];\n",
              "      let downloaded = 0;\n",
              "\n",
              "      const channel = await google.colab.kernel.comms.open(id);\n",
              "      // Send a message to notify the kernel that we're ready.\n",
              "      channel.send({})\n",
              "\n",
              "      for await (const message of channel.messages) {\n",
              "        // Send a message to notify the kernel that we're ready.\n",
              "        channel.send({})\n",
              "        if (message.buffers) {\n",
              "          for (const buffer of message.buffers) {\n",
              "            buffers.push(buffer);\n",
              "            downloaded += buffer.byteLength;\n",
              "            progress.value = downloaded;\n",
              "          }\n",
              "        }\n",
              "      }\n",
              "      const blob = new Blob(buffers, {type: 'application/binary'});\n",
              "      const a = document.createElement('a');\n",
              "      a.href = window.URL.createObjectURL(blob);\n",
              "      a.download = filename;\n",
              "      div.appendChild(a);\n",
              "      a.click();\n",
              "      div.remove();\n",
              "    }\n",
              "  "
            ]
          },
          "metadata": {}
        },
        {
          "output_type": "display_data",
          "data": {
            "text/plain": [
              "<IPython.core.display.Javascript object>"
            ],
            "application/javascript": [
              "download(\"download_7377b90f-c980-47ff-8abb-cf7c80376d7b\", \".env\", 212)"
            ]
          },
          "metadata": {}
        },
        {
          "output_type": "display_data",
          "data": {
            "text/plain": [
              "<IPython.core.display.Javascript object>"
            ],
            "application/javascript": [
              "\n",
              "    async function download(id, filename, size) {\n",
              "      if (!google.colab.kernel.accessAllowed) {\n",
              "        return;\n",
              "      }\n",
              "      const div = document.createElement('div');\n",
              "      const label = document.createElement('label');\n",
              "      label.textContent = `Downloading \"${filename}\": `;\n",
              "      div.appendChild(label);\n",
              "      const progress = document.createElement('progress');\n",
              "      progress.max = size;\n",
              "      div.appendChild(progress);\n",
              "      document.body.appendChild(div);\n",
              "\n",
              "      const buffers = [];\n",
              "      let downloaded = 0;\n",
              "\n",
              "      const channel = await google.colab.kernel.comms.open(id);\n",
              "      // Send a message to notify the kernel that we're ready.\n",
              "      channel.send({})\n",
              "\n",
              "      for await (const message of channel.messages) {\n",
              "        // Send a message to notify the kernel that we're ready.\n",
              "        channel.send({})\n",
              "        if (message.buffers) {\n",
              "          for (const buffer of message.buffers) {\n",
              "            buffers.push(buffer);\n",
              "            downloaded += buffer.byteLength;\n",
              "            progress.value = downloaded;\n",
              "          }\n",
              "        }\n",
              "      }\n",
              "      const blob = new Blob(buffers, {type: 'application/binary'});\n",
              "      const a = document.createElement('a');\n",
              "      a.href = window.URL.createObjectURL(blob);\n",
              "      a.download = filename;\n",
              "      div.appendChild(a);\n",
              "      a.click();\n",
              "      div.remove();\n",
              "    }\n",
              "  "
            ]
          },
          "metadata": {}
        },
        {
          "output_type": "display_data",
          "data": {
            "text/plain": [
              "<IPython.core.display.Javascript object>"
            ],
            "application/javascript": [
              "download(\"download_f290d968-d870-4bf1-846f-ef4bf448df48\", \"README.md\", 103)"
            ]
          },
          "metadata": {}
        }
      ]
    },
    {
      "cell_type": "code",
      "source": [
        "from google.colab import files\n",
        "uploaded = files.upload()\n"
      ],
      "metadata": {
        "colab": {
          "base_uri": "https://localhost:8080/",
          "height": 73
        },
        "id": "eg-xlccm_AFr",
        "outputId": "30c69c28-4b1a-44d7-9446-637a2918f42e"
      },
      "execution_count": null,
      "outputs": [
        {
          "output_type": "display_data",
          "data": {
            "text/plain": [
              "<IPython.core.display.HTML object>"
            ],
            "text/html": [
              "\n",
              "     <input type=\"file\" id=\"files-37bcb8d7-94b9-4439-98d4-d1303b2e11e2\" name=\"files[]\" multiple disabled\n",
              "        style=\"border:none\" />\n",
              "     <output id=\"result-37bcb8d7-94b9-4439-98d4-d1303b2e11e2\">\n",
              "      Upload widget is only available when the cell has been executed in the\n",
              "      current browser session. Please rerun this cell to enable.\n",
              "      </output>\n",
              "      <script>// Copyright 2017 Google LLC\n",
              "//\n",
              "// Licensed under the Apache License, Version 2.0 (the \"License\");\n",
              "// you may not use this file except in compliance with the License.\n",
              "// You may obtain a copy of the License at\n",
              "//\n",
              "//      http://www.apache.org/licenses/LICENSE-2.0\n",
              "//\n",
              "// Unless required by applicable law or agreed to in writing, software\n",
              "// distributed under the License is distributed on an \"AS IS\" BASIS,\n",
              "// WITHOUT WARRANTIES OR CONDITIONS OF ANY KIND, either express or implied.\n",
              "// See the License for the specific language governing permissions and\n",
              "// limitations under the License.\n",
              "\n",
              "/**\n",
              " * @fileoverview Helpers for google.colab Python module.\n",
              " */\n",
              "(function(scope) {\n",
              "function span(text, styleAttributes = {}) {\n",
              "  const element = document.createElement('span');\n",
              "  element.textContent = text;\n",
              "  for (const key of Object.keys(styleAttributes)) {\n",
              "    element.style[key] = styleAttributes[key];\n",
              "  }\n",
              "  return element;\n",
              "}\n",
              "\n",
              "// Max number of bytes which will be uploaded at a time.\n",
              "const MAX_PAYLOAD_SIZE = 100 * 1024;\n",
              "\n",
              "function _uploadFiles(inputId, outputId) {\n",
              "  const steps = uploadFilesStep(inputId, outputId);\n",
              "  const outputElement = document.getElementById(outputId);\n",
              "  // Cache steps on the outputElement to make it available for the next call\n",
              "  // to uploadFilesContinue from Python.\n",
              "  outputElement.steps = steps;\n",
              "\n",
              "  return _uploadFilesContinue(outputId);\n",
              "}\n",
              "\n",
              "// This is roughly an async generator (not supported in the browser yet),\n",
              "// where there are multiple asynchronous steps and the Python side is going\n",
              "// to poll for completion of each step.\n",
              "// This uses a Promise to block the python side on completion of each step,\n",
              "// then passes the result of the previous step as the input to the next step.\n",
              "function _uploadFilesContinue(outputId) {\n",
              "  const outputElement = document.getElementById(outputId);\n",
              "  const steps = outputElement.steps;\n",
              "\n",
              "  const next = steps.next(outputElement.lastPromiseValue);\n",
              "  return Promise.resolve(next.value.promise).then((value) => {\n",
              "    // Cache the last promise value to make it available to the next\n",
              "    // step of the generator.\n",
              "    outputElement.lastPromiseValue = value;\n",
              "    return next.value.response;\n",
              "  });\n",
              "}\n",
              "\n",
              "/**\n",
              " * Generator function which is called between each async step of the upload\n",
              " * process.\n",
              " * @param {string} inputId Element ID of the input file picker element.\n",
              " * @param {string} outputId Element ID of the output display.\n",
              " * @return {!Iterable<!Object>} Iterable of next steps.\n",
              " */\n",
              "function* uploadFilesStep(inputId, outputId) {\n",
              "  const inputElement = document.getElementById(inputId);\n",
              "  inputElement.disabled = false;\n",
              "\n",
              "  const outputElement = document.getElementById(outputId);\n",
              "  outputElement.innerHTML = '';\n",
              "\n",
              "  const pickedPromise = new Promise((resolve) => {\n",
              "    inputElement.addEventListener('change', (e) => {\n",
              "      resolve(e.target.files);\n",
              "    });\n",
              "  });\n",
              "\n",
              "  const cancel = document.createElement('button');\n",
              "  inputElement.parentElement.appendChild(cancel);\n",
              "  cancel.textContent = 'Cancel upload';\n",
              "  const cancelPromise = new Promise((resolve) => {\n",
              "    cancel.onclick = () => {\n",
              "      resolve(null);\n",
              "    };\n",
              "  });\n",
              "\n",
              "  // Wait for the user to pick the files.\n",
              "  const files = yield {\n",
              "    promise: Promise.race([pickedPromise, cancelPromise]),\n",
              "    response: {\n",
              "      action: 'starting',\n",
              "    }\n",
              "  };\n",
              "\n",
              "  cancel.remove();\n",
              "\n",
              "  // Disable the input element since further picks are not allowed.\n",
              "  inputElement.disabled = true;\n",
              "\n",
              "  if (!files) {\n",
              "    return {\n",
              "      response: {\n",
              "        action: 'complete',\n",
              "      }\n",
              "    };\n",
              "  }\n",
              "\n",
              "  for (const file of files) {\n",
              "    const li = document.createElement('li');\n",
              "    li.append(span(file.name, {fontWeight: 'bold'}));\n",
              "    li.append(span(\n",
              "        `(${file.type || 'n/a'}) - ${file.size} bytes, ` +\n",
              "        `last modified: ${\n",
              "            file.lastModifiedDate ? file.lastModifiedDate.toLocaleDateString() :\n",
              "                                    'n/a'} - `));\n",
              "    const percent = span('0% done');\n",
              "    li.appendChild(percent);\n",
              "\n",
              "    outputElement.appendChild(li);\n",
              "\n",
              "    const fileDataPromise = new Promise((resolve) => {\n",
              "      const reader = new FileReader();\n",
              "      reader.onload = (e) => {\n",
              "        resolve(e.target.result);\n",
              "      };\n",
              "      reader.readAsArrayBuffer(file);\n",
              "    });\n",
              "    // Wait for the data to be ready.\n",
              "    let fileData = yield {\n",
              "      promise: fileDataPromise,\n",
              "      response: {\n",
              "        action: 'continue',\n",
              "      }\n",
              "    };\n",
              "\n",
              "    // Use a chunked sending to avoid message size limits. See b/62115660.\n",
              "    let position = 0;\n",
              "    do {\n",
              "      const length = Math.min(fileData.byteLength - position, MAX_PAYLOAD_SIZE);\n",
              "      const chunk = new Uint8Array(fileData, position, length);\n",
              "      position += length;\n",
              "\n",
              "      const base64 = btoa(String.fromCharCode.apply(null, chunk));\n",
              "      yield {\n",
              "        response: {\n",
              "          action: 'append',\n",
              "          file: file.name,\n",
              "          data: base64,\n",
              "        },\n",
              "      };\n",
              "\n",
              "      let percentDone = fileData.byteLength === 0 ?\n",
              "          100 :\n",
              "          Math.round((position / fileData.byteLength) * 100);\n",
              "      percent.textContent = `${percentDone}% done`;\n",
              "\n",
              "    } while (position < fileData.byteLength);\n",
              "  }\n",
              "\n",
              "  // All done.\n",
              "  yield {\n",
              "    response: {\n",
              "      action: 'complete',\n",
              "    }\n",
              "  };\n",
              "}\n",
              "\n",
              "scope.google = scope.google || {};\n",
              "scope.google.colab = scope.google.colab || {};\n",
              "scope.google.colab._files = {\n",
              "  _uploadFiles,\n",
              "  _uploadFilesContinue,\n",
              "};\n",
              "})(self);\n",
              "</script> "
            ]
          },
          "metadata": {}
        },
        {
          "output_type": "stream",
          "name": "stdout",
          "text": [
            "Saving env to env\n"
          ]
        }
      ]
    },
    {
      "cell_type": "code",
      "source": [
        "!pip install python-dotenv\n"
      ],
      "metadata": {
        "colab": {
          "base_uri": "https://localhost:8080/"
        },
        "id": "ETBiU3LG_Nke",
        "outputId": "4f96ba5c-485c-4cd5-d053-14dcc80f21c5"
      },
      "execution_count": null,
      "outputs": [
        {
          "output_type": "stream",
          "name": "stdout",
          "text": [
            "Collecting python-dotenv\n",
            "  Downloading python_dotenv-1.1.0-py3-none-any.whl.metadata (24 kB)\n",
            "Downloading python_dotenv-1.1.0-py3-none-any.whl (20 kB)\n",
            "Installing collected packages: python-dotenv\n",
            "Successfully installed python-dotenv-1.1.0\n"
          ]
        }
      ]
    },
    {
      "cell_type": "code",
      "source": [
        "from dotenv import load_dotenv\n",
        "load_dotenv()  # by default, it looks for \".env\" in the current directory\n",
        "\n"
      ],
      "metadata": {
        "colab": {
          "base_uri": "https://localhost:8080/"
        },
        "id": "gSPzNXxv_XQC",
        "outputId": "c8e8c7aa-95ed-44f8-9518-210c245376bd"
      },
      "execution_count": null,
      "outputs": [
        {
          "output_type": "execute_result",
          "data": {
            "text/plain": [
              "True"
            ]
          },
          "metadata": {},
          "execution_count": 5
        }
      ]
    },
    {
      "cell_type": "code",
      "source": [
        "import os\n",
        "\n",
        "openai_api_key = os.getenv(\"OPENAI_API_KEY\")\n",
        "os.environ[\"OPENAI_MODEL_NAME\"] = \"gpt-3.5-turbo\"\n"
      ],
      "metadata": {
        "id": "1RYZD5hVAfZ_"
      },
      "execution_count": null,
      "outputs": []
    },
    {
      "cell_type": "code",
      "source": [
        "print(\"✅ API key loaded.\" if openai_api_key else \"❌ Key not loaded.\")"
      ],
      "metadata": {
        "colab": {
          "base_uri": "https://localhost:8080/"
        },
        "id": "d0fUUFBHAwJR",
        "outputId": "e4c99335-6bc6-4eb4-9b3a-017645036c83"
      },
      "execution_count": null,
      "outputs": [
        {
          "output_type": "stream",
          "name": "stdout",
          "text": [
            "✅ API key loaded.\n"
          ]
        }
      ]
    },
    {
      "cell_type": "code",
      "source": [
        "planner = Agent(\n",
        "    role=\"Content Planner\",\n",
        "    goal=\"Plan engaging and factually accurate content on {topic}\",\n",
        "    backstory=\"You're working on planning a blog article \"\n",
        "              \"about the topic: {topic}.\"\n",
        "              \"You collect information that helps the \"\n",
        "              \"audience learn something \"\n",
        "              \"and make informed decisions. \"\n",
        "              \"Your work is the basis for \"\n",
        "              \"the Content Writer to write an article on this topic.\",\n",
        "    allow_delegation=False,\n",
        "\tverbose=True\n",
        ")"
      ],
      "metadata": {
        "id": "JAPp2jCPBWZ0"
      },
      "execution_count": null,
      "outputs": []
    },
    {
      "cell_type": "code",
      "source": [
        "writer = Agent(\n",
        "    role=\"Content Writer\",\n",
        "    goal=\"Write insightful and factually accurate \"\n",
        "         \"opinion piece about the topic: {topic}\",\n",
        "    backstory=\"You're working on a writing \"\n",
        "              \"a new opinion piece about the topic: {topic}. \"\n",
        "              \"You base your writing on the work of \"\n",
        "              \"the Content Planner, who provides an outline \"\n",
        "              \"and relevant context about the topic. \"\n",
        "              \"You follow the main objectives and \"\n",
        "              \"direction of the outline, \"\n",
        "              \"as provide by the Content Planner. \"\n",
        "              \"You also provide objective and impartial insights \"\n",
        "              \"and back them up with information \"\n",
        "              \"provide by the Content Planner. \"\n",
        "              \"You acknowledge in your opinion piece \"\n",
        "              \"when your statements are opinions \"\n",
        "              \"as opposed to objective statements.\",\n",
        "    allow_delegation=False,\n",
        "    verbose=True\n",
        ")"
      ],
      "metadata": {
        "id": "5E_GlxerBYHi"
      },
      "execution_count": null,
      "outputs": []
    },
    {
      "cell_type": "code",
      "source": [
        "editor = Agent(\n",
        "    role=\"Editor\",\n",
        "    goal=\"Edit a given blog post to align with \"\n",
        "         \"the writing style of the organization. \",\n",
        "    backstory=\"You are an editor who receives a blog post \"\n",
        "              \"from the Content Writer. \"\n",
        "              \"Your goal is to review the blog post \"\n",
        "              \"to ensure that it follows journalistic best practices,\"\n",
        "              \"provides balanced viewpoints \"\n",
        "              \"when providing opinions or assertions, \"\n",
        "              \"and also avoids major controversial topics \"\n",
        "              \"or opinions when possible.\",\n",
        "    allow_delegation=False,\n",
        "    verbose=True\n",
        ")"
      ],
      "metadata": {
        "id": "JxZAcgSaBcQR"
      },
      "execution_count": null,
      "outputs": []
    },
    {
      "cell_type": "code",
      "source": [
        "plan = Task(\n",
        "    description=(\n",
        "        \"1. Prioritize the latest trends, key players, \"\n",
        "            \"and noteworthy news on {topic}.\\n\"\n",
        "        \"2. Identify the target audience, considering \"\n",
        "            \"their interests and pain points.\\n\"\n",
        "        \"3. Develop a detailed content outline including \"\n",
        "            \"an introduction, key points, and a call to action.\\n\"\n",
        "        \"4. Include SEO keywords and relevant data or sources.\"\n",
        "    ),\n",
        "    expected_output=\"A comprehensive content plan document \"\n",
        "        \"with an outline, audience analysis, \"\n",
        "        \"SEO keywords, and resources.\",\n",
        "    agent=planner,\n",
        ")"
      ],
      "metadata": {
        "id": "8AFsDpGTB0PP"
      },
      "execution_count": null,
      "outputs": []
    },
    {
      "cell_type": "code",
      "source": [
        "write = Task(\n",
        "    description=(\n",
        "        \"1. Use the content plan to craft a compelling \"\n",
        "            \"blog post on {topic}.\\n\"\n",
        "        \"2. Incorporate SEO keywords naturally.\\n\"\n",
        "\t\t\"3. Sections/Subtitles are properly named \"\n",
        "            \"in an engaging manner.\\n\"\n",
        "        \"4. Ensure the post is structured with an \"\n",
        "            \"engaging introduction, insightful body, \"\n",
        "            \"and a summarizing conclusion.\\n\"\n",
        "        \"5. Proofread for grammatical errors and \"\n",
        "            \"alignment with the brand's voice.\\n\"\n",
        "    ),\n",
        "    expected_output=\"A well-written blog post \"\n",
        "        \"in markdown format, ready for publication, \"\n",
        "        \"each section should have 2 or 3 paragraphs.\",\n",
        "    agent=writer,\n",
        ")"
      ],
      "metadata": {
        "id": "_KlYYUlMD4rG"
      },
      "execution_count": null,
      "outputs": []
    },
    {
      "cell_type": "code",
      "source": [
        "edit = Task(\n",
        "    description=(\"Proofread the given blog post for \"\n",
        "                 \"grammatical errors and \"\n",
        "                 \"alignment with the brand's voice.\"),\n",
        "    expected_output=\"A well-written blog post in markdown format, \"\n",
        "                    \"ready for publication, \"\n",
        "                    \"each section should have 2 or 3 paragraphs.\",\n",
        "    agent=editor\n",
        ")"
      ],
      "metadata": {
        "id": "5Bt-Ek-AD6hB"
      },
      "execution_count": null,
      "outputs": []
    },
    {
      "cell_type": "code",
      "source": [
        "crew = Crew(\n",
        "    agents=[planner, writer, editor],\n",
        "    tasks=[plan, write, edit],\n",
        "    verbose=2\n",
        ")"
      ],
      "metadata": {
        "id": "sdCGntJnES2K"
      },
      "execution_count": null,
      "outputs": []
    },
    {
      "cell_type": "code",
      "source": [
        "result = crew.kickoff(inputs={\"topic\": \"Bias in Artificial Intelligence\"})"
      ],
      "metadata": {
        "colab": {
          "base_uri": "https://localhost:8080/"
        },
        "id": "gsBs4O_hEw9p",
        "outputId": "b0549597-ba9f-4f6a-d54f-d484ffe13106"
      },
      "execution_count": null,
      "outputs": [
        {
          "output_type": "stream",
          "name": "stdout",
          "text": [
            "\u001b[1m\u001b[95m [DEBUG]: == Working Agent: Content Planner\u001b[00m\n",
            "\u001b[1m\u001b[95m [INFO]: == Starting Task: 1. Prioritize the latest trends, key players, and noteworthy news on Bias in Artificial Intelligence.\n",
            "2. Identify the target audience, considering their interests and pain points.\n",
            "3. Develop a detailed content outline including an introduction, key points, and a call to action.\n",
            "4. Include SEO keywords and relevant data or sources.\u001b[00m\n",
            "\n",
            "\n",
            "\u001b[1m> Entering new CrewAgentExecutor chain...\u001b[0m\n",
            "\u001b[32;1m\u001b[1;3mI now can give a great answer\n",
            "\n",
            "Final Answer: \n",
            "\n",
            "Title: Uncovering Bias in Artificial Intelligence: A Guide to Understanding and Addressing\n",
            "\n",
            "Introduction:\n",
            "- Brief overview of the increasing use of AI in various industries\n",
            "- Mention of the potential risks and challenges associated with biased AI algorithms\n",
            "\n",
            "Key Points:\n",
            "1. Latest Trends:\n",
            "- Discuss the recent advancements in AI technology and the growing concerns about bias\n",
            "- Highlight key players in the AI industry who are addressing bias in their algorithms\n",
            "- Provide examples of notable news articles or studies on bias in AI\n",
            "\n",
            "2. Target Audience:\n",
            "- Identify professionals working in tech, data science, and AI industries\n",
            "- Consider the interests of individuals concerned about ethical AI practices and diversity in technology\n",
            "- Address the pain points of those who may be affected by biased AI decisions, such as marginalized communities or individuals\n",
            "\n",
            "3. Content Outline:\n",
            "- Introduction to Bias in AI\n",
            "- Explanation of how bias is introduced in AI algorithms\n",
            "- Impact of biased AI on society and individuals\n",
            "- Strategies for detecting and mitigating bias in AI\n",
            "- Call to action to promote diversity and ethical practices in AI development\n",
            "\n",
            "4. SEO Keywords:\n",
            "- Bias in Artificial Intelligence\n",
            "- AI algorithms and bias\n",
            "- Ethical AI practices\n",
            "- Addressing bias in machine learning\n",
            "- Diversity in technology\n",
            "\n",
            "Resources:\n",
            "- Data sets and research studies on bias in AI algorithms\n",
            "- Articles and reports from reputable sources on the topic\n",
            "- Tools and guidelines for addressing bias in AI development\n",
            "- Organizations and initiatives focused on promoting ethical AI practices\n",
            "\n",
            "Conclusion:\n",
            "- Encourage readers to stay informed about bias in AI and advocate for diversity and fairness in technology\n",
            "- Provide additional resources for further learning and action\n",
            "\n",
            "This content plan aims to educate and empower the target audience to recognize and address bias in artificial intelligence, ultimately contributing to the development of more ethical and inclusive AI technologies.\u001b[0m\n",
            "\n",
            "\u001b[1m> Finished chain.\u001b[0m\n",
            "\u001b[1m\u001b[92m [DEBUG]: == [Content Planner] Task output: Title: Uncovering Bias in Artificial Intelligence: A Guide to Understanding and Addressing\n",
            "\n",
            "Introduction:\n",
            "- Brief overview of the increasing use of AI in various industries\n",
            "- Mention of the potential risks and challenges associated with biased AI algorithms\n",
            "\n",
            "Key Points:\n",
            "1. Latest Trends:\n",
            "- Discuss the recent advancements in AI technology and the growing concerns about bias\n",
            "- Highlight key players in the AI industry who are addressing bias in their algorithms\n",
            "- Provide examples of notable news articles or studies on bias in AI\n",
            "\n",
            "2. Target Audience:\n",
            "- Identify professionals working in tech, data science, and AI industries\n",
            "- Consider the interests of individuals concerned about ethical AI practices and diversity in technology\n",
            "- Address the pain points of those who may be affected by biased AI decisions, such as marginalized communities or individuals\n",
            "\n",
            "3. Content Outline:\n",
            "- Introduction to Bias in AI\n",
            "- Explanation of how bias is introduced in AI algorithms\n",
            "- Impact of biased AI on society and individuals\n",
            "- Strategies for detecting and mitigating bias in AI\n",
            "- Call to action to promote diversity and ethical practices in AI development\n",
            "\n",
            "4. SEO Keywords:\n",
            "- Bias in Artificial Intelligence\n",
            "- AI algorithms and bias\n",
            "- Ethical AI practices\n",
            "- Addressing bias in machine learning\n",
            "- Diversity in technology\n",
            "\n",
            "Resources:\n",
            "- Data sets and research studies on bias in AI algorithms\n",
            "- Articles and reports from reputable sources on the topic\n",
            "- Tools and guidelines for addressing bias in AI development\n",
            "- Organizations and initiatives focused on promoting ethical AI practices\n",
            "\n",
            "Conclusion:\n",
            "- Encourage readers to stay informed about bias in AI and advocate for diversity and fairness in technology\n",
            "- Provide additional resources for further learning and action\n",
            "\n",
            "This content plan aims to educate and empower the target audience to recognize and address bias in artificial intelligence, ultimately contributing to the development of more ethical and inclusive AI technologies.\n",
            "\n",
            "\u001b[00m\n",
            "\u001b[1m\u001b[95m [DEBUG]: == Working Agent: Content Writer\u001b[00m\n",
            "\u001b[1m\u001b[95m [INFO]: == Starting Task: 1. Use the content plan to craft a compelling blog post on Bias in Artificial Intelligence.\n",
            "2. Incorporate SEO keywords naturally.\n",
            "3. Sections/Subtitles are properly named in an engaging manner.\n",
            "4. Ensure the post is structured with an engaging introduction, insightful body, and a summarizing conclusion.\n",
            "5. Proofread for grammatical errors and alignment with the brand's voice.\n",
            "\u001b[00m\n",
            "\n",
            "\n",
            "\u001b[1m> Entering new CrewAgentExecutor chain...\u001b[0m\n",
            "\u001b[32;1m\u001b[1;3mI now can give a great answer\n",
            "\n",
            "Final Answer:\n",
            "\n",
            "# Uncovering Bias in Artificial Intelligence: A Guide to Understanding and Addressing\n",
            "\n",
            "## Introduction\n",
            "Artificial Intelligence (AI) has become a pivotal technology in various industries, revolutionizing processes and decision-making. However, with this rapid integration of AI, concerns about bias in algorithms have come to the forefront. Biased AI algorithms have the potential to perpetuate discrimination, reinforce stereotypes, and impact marginalized communities negatively. It is crucial to understand and address bias in AI to ensure fair and ethical outcomes.\n",
            "\n",
            "## Latest Trends\n",
            "In recent years, advancements in AI technology have brought to light the issue of bias in algorithms. Companies like Google, IBM, and Microsoft have acknowledged the importance of addressing bias in their AI systems. For instance, Google's AI ethics team has worked on developing guidelines for ethical AI practices, aiming to mitigate bias in their algorithms. Studies and news articles have also highlighted cases where biased AI has resulted in unfair outcomes, emphasizing the need for awareness and action in this area.\n",
            "\n",
            "## Target Audience\n",
            "Professionals in the tech, data science, and AI industries play a crucial role in shaping the future of AI technologies. Individuals concerned about ethical AI practices and diversity in technology are also key stakeholders in addressing bias in AI. It is essential to consider the impact of biased AI decisions on marginalized communities and individuals who may be disproportionately affected by these algorithms.\n",
            "\n",
            "## Content Outline\n",
            "- Introduction to Bias in AI: Exploring the concept of bias in AI algorithms and its implications.\n",
            "- Explanation of how bias is introduced in AI algorithms: Understanding the sources of bias in AI systems.\n",
            "- Impact of biased AI on society and individuals: Discussing the consequences of biased AI decisions on various stakeholders.\n",
            "- Strategies for detecting and mitigating bias in AI: Providing tools and guidelines for identifying and addressing bias in AI development.\n",
            "- Call to action to promote diversity and ethical practices in AI development: Encouraging readers to advocate for inclusive and fair AI technologies.\n",
            "\n",
            "## SEO Keywords\n",
            "- Bias in Artificial Intelligence\n",
            "- AI algorithms and bias\n",
            "- Ethical AI practices\n",
            "- Addressing bias in machine learning\n",
            "- Diversity in technology\n",
            "\n",
            "## Conclusion\n",
            "As we navigate the complex landscape of AI technologies, it is crucial to remain vigilant about bias in algorithms and advocate for diversity and fairness in technology. By staying informed and actively promoting ethical practices in AI development, we can contribute to the creation of more inclusive and unbiased AI systems. For further learning and action, resources are available to support ongoing efforts in addressing bias in artificial intelligence.\n",
            "\n",
            "This blog post aims to empower individuals in the tech industry and beyond to recognize and address bias in AI, fostering a more ethical and inclusive approach to AI development.\u001b[0m\n",
            "\n",
            "\u001b[1m> Finished chain.\u001b[0m\n",
            "\u001b[1m\u001b[92m [DEBUG]: == [Content Writer] Task output: # Uncovering Bias in Artificial Intelligence: A Guide to Understanding and Addressing\n",
            "\n",
            "## Introduction\n",
            "Artificial Intelligence (AI) has become a pivotal technology in various industries, revolutionizing processes and decision-making. However, with this rapid integration of AI, concerns about bias in algorithms have come to the forefront. Biased AI algorithms have the potential to perpetuate discrimination, reinforce stereotypes, and impact marginalized communities negatively. It is crucial to understand and address bias in AI to ensure fair and ethical outcomes.\n",
            "\n",
            "## Latest Trends\n",
            "In recent years, advancements in AI technology have brought to light the issue of bias in algorithms. Companies like Google, IBM, and Microsoft have acknowledged the importance of addressing bias in their AI systems. For instance, Google's AI ethics team has worked on developing guidelines for ethical AI practices, aiming to mitigate bias in their algorithms. Studies and news articles have also highlighted cases where biased AI has resulted in unfair outcomes, emphasizing the need for awareness and action in this area.\n",
            "\n",
            "## Target Audience\n",
            "Professionals in the tech, data science, and AI industries play a crucial role in shaping the future of AI technologies. Individuals concerned about ethical AI practices and diversity in technology are also key stakeholders in addressing bias in AI. It is essential to consider the impact of biased AI decisions on marginalized communities and individuals who may be disproportionately affected by these algorithms.\n",
            "\n",
            "## Content Outline\n",
            "- Introduction to Bias in AI: Exploring the concept of bias in AI algorithms and its implications.\n",
            "- Explanation of how bias is introduced in AI algorithms: Understanding the sources of bias in AI systems.\n",
            "- Impact of biased AI on society and individuals: Discussing the consequences of biased AI decisions on various stakeholders.\n",
            "- Strategies for detecting and mitigating bias in AI: Providing tools and guidelines for identifying and addressing bias in AI development.\n",
            "- Call to action to promote diversity and ethical practices in AI development: Encouraging readers to advocate for inclusive and fair AI technologies.\n",
            "\n",
            "## SEO Keywords\n",
            "- Bias in Artificial Intelligence\n",
            "- AI algorithms and bias\n",
            "- Ethical AI practices\n",
            "- Addressing bias in machine learning\n",
            "- Diversity in technology\n",
            "\n",
            "## Conclusion\n",
            "As we navigate the complex landscape of AI technologies, it is crucial to remain vigilant about bias in algorithms and advocate for diversity and fairness in technology. By staying informed and actively promoting ethical practices in AI development, we can contribute to the creation of more inclusive and unbiased AI systems. For further learning and action, resources are available to support ongoing efforts in addressing bias in artificial intelligence.\n",
            "\n",
            "This blog post aims to empower individuals in the tech industry and beyond to recognize and address bias in AI, fostering a more ethical and inclusive approach to AI development.\n",
            "\n",
            "\u001b[00m\n",
            "\u001b[1m\u001b[95m [DEBUG]: == Working Agent: Editor\u001b[00m\n",
            "\u001b[1m\u001b[95m [INFO]: == Starting Task: Proofread the given blog post for grammatical errors and alignment with the brand's voice.\u001b[00m\n",
            "\n",
            "\n",
            "\u001b[1m> Entering new CrewAgentExecutor chain...\u001b[0m\n",
            "\u001b[32;1m\u001b[1;3mI now can give a great answer\n",
            "\n",
            "Final Answer:\n",
            "# Uncovering Bias in Artificial Intelligence: A Guide to Understanding and Addressing\n",
            "\n",
            "Artificial Intelligence (AI) has significantly impacted various industries, transforming processes and decision-making. However, the rapid integration of AI has brought concerns about bias in algorithms to the forefront. Biased AI algorithms have the potential to perpetuate discrimination, reinforce stereotypes, and negatively impact marginalized communities. It is imperative to comprehend and tackle bias in AI to ensure fair and ethical outcomes.\n",
            "\n",
            "Recent advancements in AI technology have shed light on the issue of bias in algorithms. Major companies like Google, IBM, and Microsoft have recognized the importance of addressing bias in their AI systems. For example, Google's AI ethics team has been working on establishing guidelines for ethical AI practices to reduce bias in their algorithms. Studies and news articles have also showcased instances where biased AI has led to unjust outcomes, underscoring the significance of awareness and action in this domain.\n",
            "\n",
            "Professionals in the tech, data science, and AI sectors play a vital role in shaping the future of AI technologies. Individuals who are concerned about ethical AI practices and diversity in technology also hold a key stake in addressing bias in AI. It is crucial to consider the repercussions of biased AI decisions on marginalized communities and individuals who may be disproportionately affected by these algorithms. \n",
            "\n",
            "In conclusion, as we navigate the intricate realm of AI technologies, it is essential to remain vigilant about bias in algorithms and advocate for diversity and fairness in technology. By staying informed and actively promoting ethical practices in AI development, we can contribute to the creation of more inclusive and unbiased AI systems. This blog post aims to empower individuals in the tech industry and beyond to recognize and address bias in AI, fostering a more ethical and inclusive approach to AI development. For further learning and action, resources are available to support ongoing efforts in addressing bias in artificial intelligence.\u001b[0m\n",
            "\n",
            "\u001b[1m> Finished chain.\u001b[0m\n",
            "\u001b[1m\u001b[92m [DEBUG]: == [Editor] Task output: # Uncovering Bias in Artificial Intelligence: A Guide to Understanding and Addressing\n",
            "\n",
            "Artificial Intelligence (AI) has significantly impacted various industries, transforming processes and decision-making. However, the rapid integration of AI has brought concerns about bias in algorithms to the forefront. Biased AI algorithms have the potential to perpetuate discrimination, reinforce stereotypes, and negatively impact marginalized communities. It is imperative to comprehend and tackle bias in AI to ensure fair and ethical outcomes.\n",
            "\n",
            "Recent advancements in AI technology have shed light on the issue of bias in algorithms. Major companies like Google, IBM, and Microsoft have recognized the importance of addressing bias in their AI systems. For example, Google's AI ethics team has been working on establishing guidelines for ethical AI practices to reduce bias in their algorithms. Studies and news articles have also showcased instances where biased AI has led to unjust outcomes, underscoring the significance of awareness and action in this domain.\n",
            "\n",
            "Professionals in the tech, data science, and AI sectors play a vital role in shaping the future of AI technologies. Individuals who are concerned about ethical AI practices and diversity in technology also hold a key stake in addressing bias in AI. It is crucial to consider the repercussions of biased AI decisions on marginalized communities and individuals who may be disproportionately affected by these algorithms. \n",
            "\n",
            "In conclusion, as we navigate the intricate realm of AI technologies, it is essential to remain vigilant about bias in algorithms and advocate for diversity and fairness in technology. By staying informed and actively promoting ethical practices in AI development, we can contribute to the creation of more inclusive and unbiased AI systems. This blog post aims to empower individuals in the tech industry and beyond to recognize and address bias in AI, fostering a more ethical and inclusive approach to AI development. For further learning and action, resources are available to support ongoing efforts in addressing bias in artificial intelligence.\n",
            "\n",
            "\u001b[00m\n"
          ]
        }
      ]
    },
    {
      "cell_type": "code",
      "source": [
        "from IPython.display import Markdown\n",
        "Markdown(result)"
      ],
      "metadata": {
        "colab": {
          "base_uri": "https://localhost:8080/",
          "height": 378
        },
        "id": "T_JrWJhpIHHP",
        "outputId": "931d7c69-951a-4b93-c5a0-9b2a96b05347"
      },
      "execution_count": null,
      "outputs": [
        {
          "output_type": "execute_result",
          "data": {
            "text/plain": [
              "<IPython.core.display.Markdown object>"
            ],
            "text/markdown": "# Uncovering Bias in Artificial Intelligence: A Guide to Understanding and Addressing\n\nArtificial Intelligence (AI) has significantly impacted various industries, transforming processes and decision-making. However, the rapid integration of AI has brought concerns about bias in algorithms to the forefront. Biased AI algorithms have the potential to perpetuate discrimination, reinforce stereotypes, and negatively impact marginalized communities. It is imperative to comprehend and tackle bias in AI to ensure fair and ethical outcomes.\n\nRecent advancements in AI technology have shed light on the issue of bias in algorithms. Major companies like Google, IBM, and Microsoft have recognized the importance of addressing bias in their AI systems. For example, Google's AI ethics team has been working on establishing guidelines for ethical AI practices to reduce bias in their algorithms. Studies and news articles have also showcased instances where biased AI has led to unjust outcomes, underscoring the significance of awareness and action in this domain.\n\nProfessionals in the tech, data science, and AI sectors play a vital role in shaping the future of AI technologies. Individuals who are concerned about ethical AI practices and diversity in technology also hold a key stake in addressing bias in AI. It is crucial to consider the repercussions of biased AI decisions on marginalized communities and individuals who may be disproportionately affected by these algorithms. \n\nIn conclusion, as we navigate the intricate realm of AI technologies, it is essential to remain vigilant about bias in algorithms and advocate for diversity and fairness in technology. By staying informed and actively promoting ethical practices in AI development, we can contribute to the creation of more inclusive and unbiased AI systems. This blog post aims to empower individuals in the tech industry and beyond to recognize and address bias in AI, fostering a more ethical and inclusive approach to AI development. For further learning and action, resources are available to support ongoing efforts in addressing bias in artificial intelligence."
          },
          "metadata": {},
          "execution_count": 14
        }
      ]
    }
  ]
}
